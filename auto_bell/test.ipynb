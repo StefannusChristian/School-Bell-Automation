{
 "cells": [
  {
   "cell_type": "code",
   "execution_count": 1,
   "metadata": {},
   "outputs": [
    {
     "name": "stdout",
     "output_type": "stream",
     "text": [
      "Original sound_files:\n",
      "{'1': 'sounds/Bel Tanda Masuk Kelas.mp3', '2': 'sounds/Bel Jam Ke-1.mp3', '3': 'sounds/Bel Jam Ke-2.mp3', '4': 'sounds/Bel Jam Ke-3.mp3', '5': 'sounds/Bel Istirahat.mp3', '6': 'sounds/Bel Jam Ke-4.mp3', '7': 'sounds/Bel Jam Ke-5.mp3', '8': 'sounds/Bel Jam Ke-6.mp3', '9': 'sounds/Bel Istirahat.mp3', '10': 'sounds/Bel Jam Ke-7.mp3', '11': 'sounds/Bel Jam Ke-8.mp3', '12': 'sounds/Bel Istirahat.mp3', '13': 'sounds/Bel Jam Ke-9.mp3', '14': 'sounds/Bel Jam Ke-10.mp3', '15': 'sounds/Bel Pulang Sekolah.mp3'}\n",
      "\n",
      "Updated sound_files:\n",
      "11:31:00\n",
      "11:31:30\n",
      "11:32:00\n",
      "11:32:30\n",
      "11:33:00\n",
      "11:33:30\n",
      "11:34:00\n",
      "11:34:30\n",
      "11:35:00\n",
      "11:35:30\n",
      "11:36:00\n",
      "11:36:30\n",
      "11:37:00\n",
      "11:37:30\n",
      "11:38:00\n"
     ]
    }
   ],
   "source": [
    "import os\n",
    "import sys\n",
    "from datetime import datetime, timedelta\n",
    "\n",
    "# Determine the script directory, considering PyInstaller's _MEIPASS attribute\n",
    "# script_dir = getattr(sys, '_MEIPASS', os.path.dirname(os.path.abspath(__file__)))\n",
    "script_dir = \"\"\n",
    "\n",
    "sound_files = {\n",
    "    \"1\": os.path.join(script_dir, \"sounds/Bel Tanda Masuk Kelas.mp3\"),\n",
    "    \"2\": os.path.join(script_dir, \"sounds/Bel Jam Ke-1.mp3\"),\n",
    "    \"3\": os.path.join(script_dir, \"sounds/Bel Jam Ke-2.mp3\"),\n",
    "    \"4\": os.path.join(script_dir, \"sounds/Bel Jam Ke-3.mp3\"),\n",
    "    \"5\": os.path.join(script_dir, \"sounds/Bel Istirahat.mp3\"),\n",
    "    \"6\": os.path.join(script_dir, \"sounds/Bel Jam Ke-4.mp3\"),\n",
    "    \"7\": os.path.join(script_dir, \"sounds/Bel Jam Ke-5.mp3\"),\n",
    "    \"8\": os.path.join(script_dir, \"sounds/Bel Jam Ke-6.mp3\"),\n",
    "    \"9\": os.path.join(script_dir, \"sounds/Bel Istirahat.mp3\"),\n",
    "    \"10\": os.path.join(script_dir, \"sounds/Bel Jam Ke-7.mp3\"),\n",
    "    \"11\": os.path.join(script_dir, \"sounds/Bel Jam Ke-8.mp3\"),\n",
    "    \"12\": os.path.join(script_dir, \"sounds/Bel Istirahat.mp3\"),\n",
    "    \"13\": os.path.join(script_dir, \"sounds/Bel Jam Ke-9.mp3\"),\n",
    "    \"14\": os.path.join(script_dir, \"sounds/Bel Jam Ke-10.mp3\"),\n",
    "    \"15\": os.path.join(script_dir, \"sounds/Bel Pulang Sekolah.mp3\"),\n",
    "}\n",
    "\n",
    "print(\"Original sound_files:\")\n",
    "print(sound_files)\n",
    "\n",
    "input_time = \"11:30:30\"\n",
    "\n",
    "# Parse input_time to datetime object\n",
    "current_time = datetime.strptime(input_time, '%H:%M:%S')\n",
    "\n",
    "# Iterate over sound_files, update keys, and print the updated sound_files\n",
    "for key, value in list(sound_files.items()):\n",
    "    # Increment current_time by 30 seconds\n",
    "    current_time += timedelta(seconds=30)\n",
    "    # Format the new key as HH:MM:SS\n",
    "    new_key = current_time.strftime('%H:%M:%S')\n",
    "    # Switch keys in the dictionary with os.path.join(script_dir)\n",
    "    sound_files[new_key] = os.path.join(script_dir, value)\n",
    "    sound_files.pop(key)\n",
    "\n",
    "print(\"\\nUpdated sound_files:\")\n",
    "for i in sound_files:\n",
    "    print(i)"
   ]
  }
 ],
 "metadata": {
  "kernelspec": {
   "display_name": "Python 3.12.0 64-bit",
   "language": "python",
   "name": "python3"
  },
  "language_info": {
   "codemirror_mode": {
    "name": "ipython",
    "version": 3
   },
   "file_extension": ".py",
   "mimetype": "text/x-python",
   "name": "python",
   "nbconvert_exporter": "python",
   "pygments_lexer": "ipython3",
   "version": "3.12.0"
  },
  "orig_nbformat": 4,
  "vscode": {
   "interpreter": {
    "hash": "5c9d8f520513ff34e9abd8f5f2543f7fe95ce4f0378107956fcd298e131ebdc3"
   }
  }
 },
 "nbformat": 4,
 "nbformat_minor": 2
}
